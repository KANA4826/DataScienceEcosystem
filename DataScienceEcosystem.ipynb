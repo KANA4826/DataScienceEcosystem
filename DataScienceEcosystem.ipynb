{
 "cells": [
  {
   "cell_type": "markdown",
   "id": "d622386e-986b-46b1-9799-28f8276cbff4",
   "metadata": {},
   "source": [
    "# Data Science Tools and Ecosystem"
   ]
  },
  {
   "cell_type": "markdown",
   "id": "6abfcb6a-c173-46b2-820f-0052e9c032dd",
   "metadata": {},
   "source": [
    "In this notebook, Data Science Tools and Ecosystem are summarized.\n",
    "  \n",
    "**Objectives:**\n",
    "\n",
    "- List popular languages for Data Science\n",
    "- Discuss commonly used libraries in Data Science\n",
    "- Identify common tools used in Data Science\n",
    "- Convert units of time (e.g., minutes to hours)"
   ]
  },
  {
   "cell_type": "markdown",
   "id": "49192afe-23b8-4519-9bf6-81f87f06cc1c",
   "metadata": {},
   "source": [
    "Some of the popular languages that Data Scientists use are:  \n",
    "\n",
    "1.Python  \n",
    "\n",
    "2.R  \n",
    "\n",
    "3.SQL  \n"
   ]
  },
  {
   "cell_type": "markdown",
   "id": "03de724e-6d98-4f94-8d70-fdd063139b12",
   "metadata": {},
   "source": [
    "Some of the commonly used libraries used by Data Scientists include:  \n",
    "\n",
    "1.Pandas  \n",
    "\n",
    "2.Numpy  \n",
    "\n",
    "3.Scikit-learn  \n"
   ]
  },
  {
   "cell_type": "markdown",
   "id": "7ff25935-912d-4fd9-8e58-c4a0f9f30dde",
   "metadata": {},
   "source": [
    "Data Science Tools:  \n",
    "\n",
    "1.Jupyter Notebook  \n",
    "\n",
    "2.Apache Hadoop  \n",
    "\n",
    "3.RStudio \n",
    "\n",
    "|Data Science Tools|\n",
    "|---|\n",
    "|Jupyter Notebook|\n",
    "|Apache Hadoop|\n",
    "|RStudio|"
   ]
  },
  {
   "cell_type": "markdown",
   "id": "2eda5b88-b095-476f-82bb-5ec466a6a04e",
   "metadata": {},
   "source": [
    "### Below are a few examples of evaluating arithmetic expressions in Python"
   ]
  },
  {
   "cell_type": "code",
   "execution_count": 10,
   "id": "abfc5b98-62ba-49da-a2ce-91295f69170a",
   "metadata": {},
   "outputs": [
    {
     "data": {
      "text/plain": [
       "17"
      ]
     },
     "execution_count": 10,
     "metadata": {},
     "output_type": "execute_result"
    }
   ],
   "source": [
    "# This a simple arithmetic expression to mutiply then add integers\n",
    "(3*4)+5"
   ]
  },
  {
   "cell_type": "code",
   "execution_count": 12,
   "id": "44a90a95-0f96-48c6-a03f-1a431609d7f5",
   "metadata": {},
   "outputs": [
    {
     "data": {
      "text/plain": [
       "3.3333333333333335"
      ]
     },
     "execution_count": 12,
     "metadata": {},
     "output_type": "execute_result"
    }
   ],
   "source": [
    "# This will convert 200 minutes to hours by diving by 60\n",
    "hours = 200 / 60\n",
    "hours"
   ]
  },
  {
   "cell_type": "markdown",
   "id": "fb3665b0-0890-44c8-a75d-3f23ee52e438",
   "metadata": {},
   "source": [
    "## Author\n",
    "HUANHUAN"
   ]
  }
 ],
 "metadata": {
  "kernelspec": {
   "display_name": "Python 3 (ipykernel)",
   "language": "python",
   "name": "python3"
  },
  "language_info": {
   "codemirror_mode": {
    "name": "ipython",
    "version": 3
   },
   "file_extension": ".py",
   "mimetype": "text/x-python",
   "name": "python",
   "nbconvert_exporter": "python",
   "pygments_lexer": "ipython3",
   "version": "3.12.7"
  }
 },
 "nbformat": 4,
 "nbformat_minor": 5
}
